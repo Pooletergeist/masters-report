{
 "cells": [
  {
   "cell_type": "markdown",
   "id": "1a4d5b71",
   "metadata": {},
   "source": [
    "### A counterexample to Roy's lemma 3.7\n",
    "\n",
    "Say $f = \\prod_{i=1}^n(x-\\xi_i) \\in \\mathbb{F}_p[x].$\n",
    "\n",
    "Say $p-1 = 2^rw$ for odd $w$. \n",
    "\n",
    "Say $\\eta$ is a generator of the 2-sylow multiplicative subgroup of $\\mathbb{F}_p$.[<sup>1</sup>](#fn1)\n",
    "\n",
    "The claim seems, if $(\\xi_i)^w \\neq (\\xi_j)^w$, then $gcd(f, \\prod_{i=0}^{{2^k}-1}(x^{\\frac{p-1}{2^{k+1}}}-\\eta^i))$ is a proper factor for some $k, 0 \\leq k \\leq r-1$.\n",
    "\n",
    "---\n",
    "<span id=\"fn1\"> [^1]: Eta can be computed by taking a quadratic nonresidue to the $w$-th power, which you can show via an argument $\\mathbb{F}_p^\\times \\cong (\\mathbb{Z}/(p-1)\\mathbb{Z})^+ \\cong (\\mathbb{Z}/2^r\\mathbb{Z})^+ \\times (\\mathbb{Z}/w\\mathbb{Z})^+$, explained further in my thesis. </span>\n",
    "\n",
    "---\n",
    "\n",
    "*open questions*\n",
    "- how does runtime remain polynomial when these products contain O(p/w) terms?\n",
    "- why is claim true despite the following p=17 counterexample?"
   ]
  },
  {
   "cell_type": "code",
   "execution_count": 21,
   "id": "bc1e306b",
   "metadata": {},
   "outputs": [
    {
     "name": "stdout",
     "output_type": "stream",
     "text": [
      "R =  Univariate Polynomial Ring in x over Ring of integers modulo 17\n",
      "f = x^3 + 9*x^2 + 11*x + 6\n",
      "eta =  3 \n",
      "---\n",
      "gcds:\n",
      "s0 =  1\n",
      "s1 =  1\n",
      "s2 =  1\n",
      "s3 =  1\n",
      "claim: False\n"
     ]
    }
   ],
   "source": [
    "# establish prime field modulus, build polynomial ring\n",
    "p = 17\n",
    "w = 1\n",
    "r = 4\n",
    "assert(p-1 == 2^r * w)\n",
    "R.<x> = PolynomialRing(IntegerModRing(p))\n",
    "print('R = ', R)\n",
    "\n",
    "# f a polynomial whose roots meet precondition (here w=1, so it's sufficient for roots to be distinct)\n",
    "f = (x+5)*(x+10)*(x+11)\n",
    "print('f =', f)\n",
    "assert(pow(-5,w,p) != pow(-10,w,p)) # roots are different, when raised to power of w\n",
    "\n",
    "# verify eta is a quadratic nonresidue to the power of w\n",
    "nonresidue = 3\n",
    "for i in range(p):\n",
    "    assert(i*i != eta)\n",
    "eta = pow(nonresidue, w, p) # nonresidue^w mod p\n",
    "print('eta = ', eta, '\\n---')\n",
    "\n",
    "# build product term for k, 0 \\leq k \\leq r-1 = 3\n",
    "pi0 = prod([(x^8 - eta^i) for i in range(1)])\n",
    "pi1 = prod([(x^4 - eta^i) for i in range(2)])\n",
    "pi2 = prod([(x^2 - eta^i) for i in range(4)])\n",
    "pi3 = prod([(x^1 - eta^i) for i in range(8)])\n",
    "\n",
    "# compute s_k terms for k, 0 \\leq k \\leq r-1 = 3\n",
    "s0 = gcd(f, pi0)\n",
    "s1 = gcd(f, pi1)\n",
    "s2 = gcd(f, pi2)\n",
    "s3 = gcd(f, pi3)\n",
    "\n",
    "print('gcds:')\n",
    "print('s0 = ', s0)\n",
    "print('s1 = ', s1)\n",
    "print('s2 = ', s2)\n",
    "print('s3 = ', s3)\n",
    "\n",
    "print('claim:', s0 != 1 or s1 != 1 or s2 != 1 or s3 != 1)"
   ]
  },
  {
   "cell_type": "markdown",
   "id": "e2cb18de",
   "metadata": {},
   "source": [
    "from above, conclude \n",
    "  * **despite $f$ whose roots meet precondition, none of the gcd's produce a proper factor. Regrettably, this contradicts lemma 3.7**\n",
    "  \n",
    "below, more certainty"
   ]
  },
  {
   "cell_type": "code",
   "execution_count": 37,
   "id": "74c3e71f",
   "metadata": {},
   "outputs": [
    {
     "name": "stdout",
     "output_type": "stream",
     "text": [
      "squares mod 17, observe 3 not present:\n",
      "[0, 1, 4, 9, 16, 8, 2, 15, 13, 13, 15, 2, 8, 16, 9, 4, 1]\n",
      "---\n",
      "powers of eta = 3 mod 17, observe distinct:\n",
      "[3, 9, 10, 13, 5, 15, 11, 16, 14, 8, 7, 4, 12, 2, 6, 1]\n"
     ]
    }
   ],
   "source": [
    "# if you want more assurance that eta is a quadratic nonresidue and generator of 2-syl subgroup\n",
    "## quadratic nonresidue\n",
    "squares = []\n",
    "print(f'squares mod {p}, observe 3 not present:')\n",
    "for i in range(p):\n",
    "    squares.append(i*i%p)\n",
    "print(squares)\n",
    "print('---')\n",
    "## generates subgroup order 16 (2-syl subgroup)\n",
    "## note: largest p^k subgroup is unique (order 2^r = 16), because p^k groups are conjugate\n",
    "print(f'powers of eta = {eta} mod {p}, observe distinct:')\n",
    "powers_of_eta = []\n",
    "for i in range(1, p): #eta^1 to eta^p-1\n",
    "    powers_of_eta.append(pow(eta, i, p))\n",
    "print(powers_of_eta)"
   ]
  },
  {
   "cell_type": "code",
   "execution_count": 49,
   "id": "a428ca1f",
   "metadata": {},
   "outputs": [
    {
     "name": "stdout",
     "output_type": "stream",
     "text": [
      "pi0= x^8 + 16\n",
      "pi1= x^8 + 13*x^4 + 3\n",
      "pi2= x^8 + 11*x^6 + 16*x^4 + 8*x^2 + 15\n",
      "pi3= x^8 + x^7 + 9*x^6 + 10*x^5 + 12*x^4 + 8*x^3 + x^2 + 5*x + 4\n",
      "---\n",
      "pi0= (x + 1) * (x + 2) * (x + 4) * (x + 8) * (x + 9) * (x + 13) * (x + 15) * (x + 16)\n",
      "pi1= (x + 1) * (x + 4) * (x + 13) * (x + 16) * (x^4 + 14)\n",
      "pi2= (x + 1) * (x + 3) * (x + 14) * (x + 16) * (x^2 + 7) * (x^2 + 14)\n",
      "pi3= (x + 2) * (x + 4) * (x + 6) * (x + 7) * (x + 8) * (x + 12) * (x + 14) * (x + 16)\n",
      "===\n",
      "\n",
      " look to see factors of f = [(x+5)*(x+10)*(x+11)] appear nowhere in pi-terms\n"
     ]
    }
   ],
   "source": [
    "# if you want more assurance that the gcds are in-fact 1\n",
    "## recall polynomial rings over a field are Unique-Factorization-Domains, \n",
    "## so gcd(a,b)=1 iff irreducible factors are non-overlapping\n",
    "print('pi0=', pi0)\n",
    "print('pi1=', pi1)\n",
    "print('pi2=', pi2)\n",
    "print('pi3=', pi3)\n",
    "\n",
    "print('---')\n",
    "\n",
    "print('pi0=', pi0.factor())\n",
    "print('pi1=', pi1.factor())\n",
    "print('pi2=', pi2.factor())\n",
    "print('pi3=', pi3.factor())\n",
    "\n",
    "print('===\\n\\n', 'look to see factors of f = [(x+5)*(x+10)*(x+11)] appear nowhere in pi-terms')"
   ]
  },
  {
   "cell_type": "code",
   "execution_count": 25,
   "id": "70fb8992",
   "metadata": {},
   "outputs": [],
   "source": [
    "# if you want more assurance that this isn't a degenerate case caused by w=1\n",
    "## you can do the same thing with bigger polynomials for larger p.\n",
    "## just compute the pi-terms, factorize them, and pick an f from linear factors that don't appear in any pi-term\n",
    "## factorization"
   ]
  }
 ],
 "metadata": {
  "kernelspec": {
   "display_name": "SageMath 10.2",
   "language": "sage",
   "name": "sagemath-10.2"
  },
  "language_info": {
   "codemirror_mode": {
    "name": "ipython",
    "version": 3
   },
   "file_extension": ".py",
   "mimetype": "text/x-python",
   "name": "python",
   "nbconvert_exporter": "python",
   "pygments_lexer": "ipython3",
   "version": "3.11.1"
  }
 },
 "nbformat": 4,
 "nbformat_minor": 5
}
